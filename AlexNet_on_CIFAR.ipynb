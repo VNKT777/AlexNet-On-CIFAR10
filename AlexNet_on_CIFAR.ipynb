{
  "nbformat": 4,
  "nbformat_minor": 0,
  "metadata": {
    "colab": {
      "name": "AlexNet_on_CIFAR.ipynb",
      "provenance": [],
      "authorship_tag": "ABX9TyMcEMJuRV95pDDhTWnjLChy",
      "include_colab_link": true
    },
    "kernelspec": {
      "name": "python3",
      "display_name": "Python 3"
    },
    "accelerator": "GPU"
  },
  "cells": [
    {
      "cell_type": "markdown",
      "metadata": {
        "id": "view-in-github",
        "colab_type": "text"
      },
      "source": [
        "<a href=\"https://colab.research.google.com/github/VNKT777/AlexNet-On-CIFAR10/blob/main/AlexNet_on_CIFAR.ipynb\" target=\"_parent\"><img src=\"https://colab.research.google.com/assets/colab-badge.svg\" alt=\"Open In Colab\"/></a>"
      ]
    },
    {
      "cell_type": "code",
      "metadata": {
        "colab": {
          "base_uri": "https://localhost:8080/"
        },
        "id": "hOGMo7R0lzqd",
        "outputId": "95e06a0f-c8a9-4612-8eb1-3aef1c807c69"
      },
      "source": [
        "from __future__ import print_function\r\n",
        "import keras\r\n",
        "from keras.datasets import cifar10\r\n",
        "from keras.preprocessing.image import ImageDataGenerator\r\n",
        "from keras.models import Sequential\r\n",
        "from keras.layers import Dense, Dropout, Activation, Flatten\r\n",
        "from keras.layers import Conv2D, MaxPooling2D, ZeroPadding2D\r\n",
        "from keras.layers.normalization import BatchNormalization\r\n",
        "from keras.regularizers import l2\r\n",
        "\r\n",
        "# Loads the CIFAR dataset\r\n",
        "(x_train, y_train), (x_test, y_test) = cifar10.load_data()\r\n",
        "\r\n",
        "# Display our data shape/dimensions\r\n",
        "print('x_train shape:', x_train.shape)\r\n",
        "print(x_train.shape[0], 'train samples')\r\n",
        "print(x_test.shape[0], 'test samples')\r\n",
        "\r\n",
        "# Now we one hot encode outputs\r\n",
        "num_classes = 10\r\n",
        "y_train = keras.utils.to_categorical(y_train, num_classes)\r\n",
        "y_test = keras.utils.to_categorical(y_test, num_classes)"
      ],
      "execution_count": 2,
      "outputs": [
        {
          "output_type": "stream",
          "text": [
            "Downloading data from https://www.cs.toronto.edu/~kriz/cifar-10-python.tar.gz\n",
            "170500096/170498071 [==============================] - 2s 0us/step\n",
            "x_train shape: (50000, 32, 32, 3)\n",
            "50000 train samples\n",
            "10000 test samples\n"
          ],
          "name": "stdout"
        }
      ]
    },
    {
      "cell_type": "code",
      "metadata": {
        "colab": {
          "base_uri": "https://localhost:8080/"
        },
        "id": "pmIQA_1cmBRQ",
        "outputId": "49abd60c-c3a2-4f86-9cae-0dbe30ec0b4a"
      },
      "source": [
        "l2_reg = 0\r\n",
        "\r\n",
        "# Initialize model\r\n",
        "model = Sequential()\r\n",
        "\r\n",
        "# 1st Conv Layer \r\n",
        "model.add(Conv2D(96, (11, 11), input_shape=x_train.shape[1:],\r\n",
        "    padding='same', kernel_regularizer=l2(l2_reg)))\r\n",
        "model.add(BatchNormalization())\r\n",
        "model.add(Activation('relu'))\r\n",
        "model.add(MaxPooling2D(pool_size=(2, 2)))\r\n",
        "\r\n",
        "# 2nd Conv Layer \r\n",
        "model.add(Conv2D(256, (5, 5), padding='same'))\r\n",
        "model.add(BatchNormalization())\r\n",
        "model.add(Activation('relu'))\r\n",
        "model.add(MaxPooling2D(pool_size=(2, 2)))\r\n",
        "\r\n",
        "# 3rd Conv Layer \r\n",
        "model.add(ZeroPadding2D((1, 1)))\r\n",
        "model.add(Conv2D(512, (3, 3), padding='same'))\r\n",
        "model.add(BatchNormalization())\r\n",
        "model.add(Activation('relu'))\r\n",
        "model.add(MaxPooling2D(pool_size=(2, 2)))\r\n",
        "\r\n",
        "# 4th Conv Layer \r\n",
        "model.add(ZeroPadding2D((1, 1)))\r\n",
        "model.add(Conv2D(1024, (3, 3), padding='same'))\r\n",
        "model.add(BatchNormalization())\r\n",
        "model.add(Activation('relu'))\r\n",
        "\r\n",
        "# 5th Conv Layer \r\n",
        "model.add(ZeroPadding2D((1, 1)))\r\n",
        "model.add(Conv2D(1024, (3, 3), padding='same'))\r\n",
        "model.add(BatchNormalization())\r\n",
        "model.add(Activation('relu'))\r\n",
        "model.add(MaxPooling2D(pool_size=(2, 2)))\r\n",
        "\r\n",
        "# 1st FC Layer\r\n",
        "model.add(Flatten())\r\n",
        "model.add(Dense(3072))\r\n",
        "model.add(BatchNormalization())\r\n",
        "model.add(Activation('relu'))\r\n",
        "model.add(Dropout(0.5))\r\n",
        "\r\n",
        "# 2nd FC Layer\r\n",
        "model.add(Dense(4096))\r\n",
        "model.add(BatchNormalization())\r\n",
        "model.add(Activation('relu'))\r\n",
        "model.add(Dropout(0.5))\r\n",
        "\r\n",
        "# 3rd FC Layer\r\n",
        "model.add(Dense(num_classes))\r\n",
        "model.add(BatchNormalization())\r\n",
        "model.add(Activation('softmax'))\r\n",
        "\r\n",
        "print(model.summary())\r\n",
        "\r\n",
        "model.compile(loss = 'categorical_crossentropy',\r\n",
        "              optimizer = keras.optimizers.Adadelta(),\r\n",
        "              metrics = ['accuracy'])"
      ],
      "execution_count": 3,
      "outputs": [
        {
          "output_type": "stream",
          "text": [
            "Model: \"sequential\"\n",
            "_________________________________________________________________\n",
            "Layer (type)                 Output Shape              Param #   \n",
            "=================================================================\n",
            "conv2d (Conv2D)              (None, 32, 32, 96)        34944     \n",
            "_________________________________________________________________\n",
            "batch_normalization (BatchNo (None, 32, 32, 96)        384       \n",
            "_________________________________________________________________\n",
            "activation (Activation)      (None, 32, 32, 96)        0         \n",
            "_________________________________________________________________\n",
            "max_pooling2d (MaxPooling2D) (None, 16, 16, 96)        0         \n",
            "_________________________________________________________________\n",
            "conv2d_1 (Conv2D)            (None, 16, 16, 256)       614656    \n",
            "_________________________________________________________________\n",
            "batch_normalization_1 (Batch (None, 16, 16, 256)       1024      \n",
            "_________________________________________________________________\n",
            "activation_1 (Activation)    (None, 16, 16, 256)       0         \n",
            "_________________________________________________________________\n",
            "max_pooling2d_1 (MaxPooling2 (None, 8, 8, 256)         0         \n",
            "_________________________________________________________________\n",
            "zero_padding2d (ZeroPadding2 (None, 10, 10, 256)       0         \n",
            "_________________________________________________________________\n",
            "conv2d_2 (Conv2D)            (None, 10, 10, 512)       1180160   \n",
            "_________________________________________________________________\n",
            "batch_normalization_2 (Batch (None, 10, 10, 512)       2048      \n",
            "_________________________________________________________________\n",
            "activation_2 (Activation)    (None, 10, 10, 512)       0         \n",
            "_________________________________________________________________\n",
            "max_pooling2d_2 (MaxPooling2 (None, 5, 5, 512)         0         \n",
            "_________________________________________________________________\n",
            "zero_padding2d_1 (ZeroPaddin (None, 7, 7, 512)         0         \n",
            "_________________________________________________________________\n",
            "conv2d_3 (Conv2D)            (None, 7, 7, 1024)        4719616   \n",
            "_________________________________________________________________\n",
            "batch_normalization_3 (Batch (None, 7, 7, 1024)        4096      \n",
            "_________________________________________________________________\n",
            "activation_3 (Activation)    (None, 7, 7, 1024)        0         \n",
            "_________________________________________________________________\n",
            "zero_padding2d_2 (ZeroPaddin (None, 9, 9, 1024)        0         \n",
            "_________________________________________________________________\n",
            "conv2d_4 (Conv2D)            (None, 9, 9, 1024)        9438208   \n",
            "_________________________________________________________________\n",
            "batch_normalization_4 (Batch (None, 9, 9, 1024)        4096      \n",
            "_________________________________________________________________\n",
            "activation_4 (Activation)    (None, 9, 9, 1024)        0         \n",
            "_________________________________________________________________\n",
            "max_pooling2d_3 (MaxPooling2 (None, 4, 4, 1024)        0         \n",
            "_________________________________________________________________\n",
            "flatten (Flatten)            (None, 16384)             0         \n",
            "_________________________________________________________________\n",
            "dense (Dense)                (None, 3072)              50334720  \n",
            "_________________________________________________________________\n",
            "batch_normalization_5 (Batch (None, 3072)              12288     \n",
            "_________________________________________________________________\n",
            "activation_5 (Activation)    (None, 3072)              0         \n",
            "_________________________________________________________________\n",
            "dropout (Dropout)            (None, 3072)              0         \n",
            "_________________________________________________________________\n",
            "dense_1 (Dense)              (None, 4096)              12587008  \n",
            "_________________________________________________________________\n",
            "batch_normalization_6 (Batch (None, 4096)              16384     \n",
            "_________________________________________________________________\n",
            "activation_6 (Activation)    (None, 4096)              0         \n",
            "_________________________________________________________________\n",
            "dropout_1 (Dropout)          (None, 4096)              0         \n",
            "_________________________________________________________________\n",
            "dense_2 (Dense)              (None, 10)                40970     \n",
            "_________________________________________________________________\n",
            "batch_normalization_7 (Batch (None, 10)                40        \n",
            "_________________________________________________________________\n",
            "activation_7 (Activation)    (None, 10)                0         \n",
            "=================================================================\n",
            "Total params: 78,990,642\n",
            "Trainable params: 78,970,462\n",
            "Non-trainable params: 20,180\n",
            "_________________________________________________________________\n",
            "None\n"
          ],
          "name": "stdout"
        }
      ]
    },
    {
      "cell_type": "code",
      "metadata": {
        "colab": {
          "base_uri": "https://localhost:8080/"
        },
        "id": "FJDL_M2_mIyo",
        "outputId": "09fdce7e-ad66-417e-8a33-a0d0a39cbde9"
      },
      "source": [
        "# Training Parameters\r\n",
        "batch_size = 32\r\n",
        "epochs = 10\r\n",
        "\r\n",
        "history = model.fit(x_train, y_train,\r\n",
        "          batch_size=batch_size,\r\n",
        "          epochs=epochs,\r\n",
        "          validation_data=(x_test, y_test),\r\n",
        "          shuffle=True)\r\n",
        "\r\n",
        "# model.save(\"/home/deeplearningcv/DeepLearningCV/Trained Models/CIFAR10_AlexNet_1_Epoch.h5\")\r\n",
        "\r\n",
        "# Evaluate the performance of our trained model\r\n",
        "scores = model.evaluate(x_test, y_test, verbose=1)\r\n",
        "print('Test loss:', scores[0])\r\n",
        "print('Test accuracy:', scores[1])"
      ],
      "execution_count": 4,
      "outputs": [
        {
          "output_type": "stream",
          "text": [
            "Epoch 1/10\n",
            "1563/1563 [==============================] - 125s 75ms/step - loss: 2.2541 - accuracy: 0.2059 - val_loss: 1.7191 - val_accuracy: 0.4079\n",
            "Epoch 2/10\n",
            "1563/1563 [==============================] - 117s 75ms/step - loss: 1.8257 - accuracy: 0.3415 - val_loss: 1.6125 - val_accuracy: 0.4495\n",
            "Epoch 3/10\n",
            "1563/1563 [==============================] - 117s 75ms/step - loss: 1.7141 - accuracy: 0.3962 - val_loss: 1.5453 - val_accuracy: 0.4765\n",
            "Epoch 4/10\n",
            "1563/1563 [==============================] - 117s 75ms/step - loss: 1.6490 - accuracy: 0.4246 - val_loss: 1.4987 - val_accuracy: 0.4996\n",
            "Epoch 5/10\n",
            "1563/1563 [==============================] - 118s 75ms/step - loss: 1.6022 - accuracy: 0.4491 - val_loss: 1.4619 - val_accuracy: 0.5133\n",
            "Epoch 6/10\n",
            "1563/1563 [==============================] - 118s 75ms/step - loss: 1.5569 - accuracy: 0.4713 - val_loss: 1.4302 - val_accuracy: 0.5272\n",
            "Epoch 7/10\n",
            "1563/1563 [==============================] - 118s 75ms/step - loss: 1.5248 - accuracy: 0.4835 - val_loss: 1.4081 - val_accuracy: 0.5398\n",
            "Epoch 8/10\n",
            "1563/1563 [==============================] - 117s 75ms/step - loss: 1.4926 - accuracy: 0.4997 - val_loss: 1.3850 - val_accuracy: 0.5515\n",
            "Epoch 9/10\n",
            "1563/1563 [==============================] - 117s 75ms/step - loss: 1.4667 - accuracy: 0.5132 - val_loss: 1.3674 - val_accuracy: 0.5542\n",
            "Epoch 10/10\n",
            "1563/1563 [==============================] - 117s 75ms/step - loss: 1.4454 - accuracy: 0.5234 - val_loss: 1.3491 - val_accuracy: 0.5650\n",
            "313/313 [==============================] - 6s 19ms/step - loss: 1.3491 - accuracy: 0.5650\n",
            "Test loss: 1.3491307497024536\n",
            "Test accuracy: 0.5649999976158142\n"
          ],
          "name": "stdout"
        }
      ]
    }
  ]
}